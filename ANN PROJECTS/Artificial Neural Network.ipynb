{
 "cells": [
  {
   "cell_type": "markdown",
   "metadata": {},
   "source": [
    "\n",
    "\n",
    "\n",
    "# Part 1 - Data Preprocessing\n"
   ]
  },
  {
   "cell_type": "code",
   "execution_count": 1,
   "metadata": {},
   "outputs": [],
   "source": [
    "\n",
    "# Importing the libraries\n",
    "import numpy as np\n",
    "import matplotlib.pyplot as plt\n",
    "import pandas as pd\n",
    "#import tensorflow as tf"
   ]
  },
  {
   "cell_type": "code",
   "execution_count": 4,
   "metadata": {},
   "outputs": [
    {
     "data": {
      "text/html": [
       "<div>\n",
       "<style scoped>\n",
       "    .dataframe tbody tr th:only-of-type {\n",
       "        vertical-align: middle;\n",
       "    }\n",
       "\n",
       "    .dataframe tbody tr th {\n",
       "        vertical-align: top;\n",
       "    }\n",
       "\n",
       "    .dataframe thead th {\n",
       "        text-align: right;\n",
       "    }\n",
       "</style>\n",
       "<table border=\"1\" class=\"dataframe\">\n",
       "  <thead>\n",
       "    <tr style=\"text-align: right;\">\n",
       "      <th></th>\n",
       "      <th>RowNumber</th>\n",
       "      <th>CustomerId</th>\n",
       "      <th>Surname</th>\n",
       "      <th>CreditScore</th>\n",
       "      <th>Geography</th>\n",
       "      <th>Gender</th>\n",
       "      <th>Age</th>\n",
       "      <th>Tenure</th>\n",
       "      <th>Balance</th>\n",
       "      <th>NumOfProducts</th>\n",
       "      <th>HasCrCard</th>\n",
       "      <th>IsActiveMember</th>\n",
       "      <th>EstimatedSalary</th>\n",
       "      <th>Exited</th>\n",
       "    </tr>\n",
       "  </thead>\n",
       "  <tbody>\n",
       "    <tr>\n",
       "      <th>0</th>\n",
       "      <td>1</td>\n",
       "      <td>15634602</td>\n",
       "      <td>Hargrave</td>\n",
       "      <td>619</td>\n",
       "      <td>France</td>\n",
       "      <td>Female</td>\n",
       "      <td>42</td>\n",
       "      <td>2</td>\n",
       "      <td>0.00</td>\n",
       "      <td>1</td>\n",
       "      <td>1</td>\n",
       "      <td>1</td>\n",
       "      <td>101348.88</td>\n",
       "      <td>1</td>\n",
       "    </tr>\n",
       "    <tr>\n",
       "      <th>1</th>\n",
       "      <td>2</td>\n",
       "      <td>15647311</td>\n",
       "      <td>Hill</td>\n",
       "      <td>608</td>\n",
       "      <td>Spain</td>\n",
       "      <td>Female</td>\n",
       "      <td>41</td>\n",
       "      <td>1</td>\n",
       "      <td>83807.86</td>\n",
       "      <td>1</td>\n",
       "      <td>0</td>\n",
       "      <td>1</td>\n",
       "      <td>112542.58</td>\n",
       "      <td>0</td>\n",
       "    </tr>\n",
       "    <tr>\n",
       "      <th>2</th>\n",
       "      <td>3</td>\n",
       "      <td>15619304</td>\n",
       "      <td>Onio</td>\n",
       "      <td>502</td>\n",
       "      <td>France</td>\n",
       "      <td>Female</td>\n",
       "      <td>42</td>\n",
       "      <td>8</td>\n",
       "      <td>159660.80</td>\n",
       "      <td>3</td>\n",
       "      <td>1</td>\n",
       "      <td>0</td>\n",
       "      <td>113931.57</td>\n",
       "      <td>1</td>\n",
       "    </tr>\n",
       "    <tr>\n",
       "      <th>3</th>\n",
       "      <td>4</td>\n",
       "      <td>15701354</td>\n",
       "      <td>Boni</td>\n",
       "      <td>699</td>\n",
       "      <td>France</td>\n",
       "      <td>Female</td>\n",
       "      <td>39</td>\n",
       "      <td>1</td>\n",
       "      <td>0.00</td>\n",
       "      <td>2</td>\n",
       "      <td>0</td>\n",
       "      <td>0</td>\n",
       "      <td>93826.63</td>\n",
       "      <td>0</td>\n",
       "    </tr>\n",
       "    <tr>\n",
       "      <th>4</th>\n",
       "      <td>5</td>\n",
       "      <td>15737888</td>\n",
       "      <td>Mitchell</td>\n",
       "      <td>850</td>\n",
       "      <td>Spain</td>\n",
       "      <td>Female</td>\n",
       "      <td>43</td>\n",
       "      <td>2</td>\n",
       "      <td>125510.82</td>\n",
       "      <td>1</td>\n",
       "      <td>1</td>\n",
       "      <td>1</td>\n",
       "      <td>79084.10</td>\n",
       "      <td>0</td>\n",
       "    </tr>\n",
       "  </tbody>\n",
       "</table>\n",
       "</div>"
      ],
      "text/plain": [
       "   RowNumber  CustomerId   Surname  CreditScore Geography  Gender  Age  \\\n",
       "0          1    15634602  Hargrave          619    France  Female   42   \n",
       "1          2    15647311      Hill          608     Spain  Female   41   \n",
       "2          3    15619304      Onio          502    France  Female   42   \n",
       "3          4    15701354      Boni          699    France  Female   39   \n",
       "4          5    15737888  Mitchell          850     Spain  Female   43   \n",
       "\n",
       "   Tenure    Balance  NumOfProducts  HasCrCard  IsActiveMember  \\\n",
       "0       2       0.00              1          1               1   \n",
       "1       1   83807.86              1          0               1   \n",
       "2       8  159660.80              3          1               0   \n",
       "3       1       0.00              2          0               0   \n",
       "4       2  125510.82              1          1               1   \n",
       "\n",
       "   EstimatedSalary  Exited  \n",
       "0        101348.88       1  \n",
       "1        112542.58       0  \n",
       "2        113931.57       1  \n",
       "3         93826.63       0  \n",
       "4         79084.10       0  "
      ]
     },
     "execution_count": 4,
     "metadata": {},
     "output_type": "execute_result"
    }
   ],
   "source": [
    "# Importing the dataset\n",
    "dataset = pd.read_csv('customer_data.csv')\n",
    "dataset.head()"
   ]
  },
  {
   "cell_type": "code",
   "execution_count": 5,
   "metadata": {},
   "outputs": [
    {
     "data": {
      "text/plain": [
       "0       1\n",
       "1       0\n",
       "2       1\n",
       "3       0\n",
       "4       0\n",
       "       ..\n",
       "9995    0\n",
       "9996    0\n",
       "9997    1\n",
       "9998    1\n",
       "9999    0\n",
       "Name: Exited, Length: 10000, dtype: int64"
      ]
     },
     "execution_count": 5,
     "metadata": {},
     "output_type": "execute_result"
    }
   ],
   "source": [
    "X = dataset.iloc[:, 3:13]  #iloc[] follows same syntax as list in python..\n",
    "y = dataset.iloc[:, 13]\n",
    "y"
   ]
  },
  {
   "cell_type": "code",
   "execution_count": 6,
   "metadata": {
    "scrolled": true
   },
   "outputs": [
    {
     "name": "stdout",
     "output_type": "stream",
     "text": [
      "<class 'pandas.core.frame.DataFrame'>\n",
      "RangeIndex: 10000 entries, 0 to 9999\n",
      "Data columns (total 14 columns):\n",
      " #   Column           Non-Null Count  Dtype  \n",
      "---  ------           --------------  -----  \n",
      " 0   RowNumber        10000 non-null  int64  \n",
      " 1   CustomerId       10000 non-null  int64  \n",
      " 2   Surname          10000 non-null  object \n",
      " 3   CreditScore      10000 non-null  int64  \n",
      " 4   Geography        10000 non-null  object \n",
      " 5   Gender           10000 non-null  object \n",
      " 6   Age              10000 non-null  int64  \n",
      " 7   Tenure           10000 non-null  int64  \n",
      " 8   Balance          10000 non-null  float64\n",
      " 9   NumOfProducts    10000 non-null  int64  \n",
      " 10  HasCrCard        10000 non-null  int64  \n",
      " 11  IsActiveMember   10000 non-null  int64  \n",
      " 12  EstimatedSalary  10000 non-null  float64\n",
      " 13  Exited           10000 non-null  int64  \n",
      "dtypes: float64(2), int64(9), object(3)\n",
      "memory usage: 1.1+ MB\n"
     ]
    }
   ],
   "source": [
    "dataset.info()"
   ]
  },
  {
   "cell_type": "code",
   "execution_count": 7,
   "metadata": {},
   "outputs": [
    {
     "data": {
      "text/html": [
       "<div>\n",
       "<style scoped>\n",
       "    .dataframe tbody tr th:only-of-type {\n",
       "        vertical-align: middle;\n",
       "    }\n",
       "\n",
       "    .dataframe tbody tr th {\n",
       "        vertical-align: top;\n",
       "    }\n",
       "\n",
       "    .dataframe thead th {\n",
       "        text-align: right;\n",
       "    }\n",
       "</style>\n",
       "<table border=\"1\" class=\"dataframe\">\n",
       "  <thead>\n",
       "    <tr style=\"text-align: right;\">\n",
       "      <th></th>\n",
       "      <th>Male</th>\n",
       "    </tr>\n",
       "  </thead>\n",
       "  <tbody>\n",
       "    <tr>\n",
       "      <th>0</th>\n",
       "      <td>0</td>\n",
       "    </tr>\n",
       "    <tr>\n",
       "      <th>1</th>\n",
       "      <td>0</td>\n",
       "    </tr>\n",
       "    <tr>\n",
       "      <th>2</th>\n",
       "      <td>0</td>\n",
       "    </tr>\n",
       "    <tr>\n",
       "      <th>3</th>\n",
       "      <td>0</td>\n",
       "    </tr>\n",
       "    <tr>\n",
       "      <th>4</th>\n",
       "      <td>0</td>\n",
       "    </tr>\n",
       "    <tr>\n",
       "      <th>...</th>\n",
       "      <td>...</td>\n",
       "    </tr>\n",
       "    <tr>\n",
       "      <th>9995</th>\n",
       "      <td>1</td>\n",
       "    </tr>\n",
       "    <tr>\n",
       "      <th>9996</th>\n",
       "      <td>1</td>\n",
       "    </tr>\n",
       "    <tr>\n",
       "      <th>9997</th>\n",
       "      <td>0</td>\n",
       "    </tr>\n",
       "    <tr>\n",
       "      <th>9998</th>\n",
       "      <td>1</td>\n",
       "    </tr>\n",
       "    <tr>\n",
       "      <th>9999</th>\n",
       "      <td>0</td>\n",
       "    </tr>\n",
       "  </tbody>\n",
       "</table>\n",
       "<p>10000 rows × 1 columns</p>\n",
       "</div>"
      ],
      "text/plain": [
       "      Male\n",
       "0        0\n",
       "1        0\n",
       "2        0\n",
       "3        0\n",
       "4        0\n",
       "...    ...\n",
       "9995     1\n",
       "9996     1\n",
       "9997     0\n",
       "9998     1\n",
       "9999     0\n",
       "\n",
       "[10000 rows x 1 columns]"
      ]
     },
     "execution_count": 7,
     "metadata": {},
     "output_type": "execute_result"
    }
   ],
   "source": [
    "#Create dummy variables\n",
    "geography=pd.get_dummies(X[\"Geography\"],drop_first=True)\n",
    "gender=pd.get_dummies(X['Gender'],drop_first=True) \n",
    "gender"
   ]
  },
  {
   "cell_type": "code",
   "execution_count": 8,
   "metadata": {},
   "outputs": [],
   "source": [
    "## Concatenate the Data Frames\n",
    "\n",
    "X=pd.concat([X,geography,gender],axis=1)\n",
    "\n",
    "## Drop Unnecessary columns\n",
    "X=X.drop(['Geography','Gender'],axis=1)"
   ]
  },
  {
   "cell_type": "code",
   "execution_count": 9,
   "metadata": {},
   "outputs": [],
   "source": [
    "# Splitting the dataset into the Training set and Test set\n",
    "from sklearn.model_selection import train_test_split\n",
    "X_train, X_test, y_train, y_test = train_test_split(X, y, test_size = 0.2, random_state = 42)\n"
   ]
  },
  {
   "cell_type": "code",
   "execution_count": 10,
   "metadata": {},
   "outputs": [],
   "source": [
    "# Feature Scaling\n",
    "from sklearn.preprocessing import StandardScaler\n",
    "sc = StandardScaler()\n",
    "X_train = sc.fit_transform(X_train)\n",
    "X_test = sc.transform(X_test)\n"
   ]
  },
  {
   "cell_type": "markdown",
   "metadata": {},
   "source": [
    "# Part 2 - Now let's make the ANN!"
   ]
  },
  {
   "cell_type": "code",
   "execution_count": 11,
   "metadata": {},
   "outputs": [],
   "source": [
    "\n",
    "# Importing the Keras libraries and packages\n",
    "from tensorflow import keras\n",
    "\n",
    "Sequential = keras.Sequential\n",
    "Dense = keras.layers.Dense  #used to create the hidden layers..\n",
    "\n",
    "Dropout = keras.layers.Dropout\n",
    "\n"
   ]
  },
  {
   "cell_type": "code",
   "execution_count": 12,
   "metadata": {},
   "outputs": [],
   "source": [
    "# Initialising the ANN\n",
    "classifier = Sequential()\n",
    "\n",
    "# Adding the input layer and the first hidden layer\n",
    "classifier.add(Dense(units = 10, kernel_initializer = 'he_normal',activation='relu',input_dim = 11))\n",
    "#as total no. of columns are 11 ,so input_dim = 11...to give a output dimension of 10.\n",
    "                                \n",
    "#dropout layer for 1st input data..\n",
    "classifier.add(Dropout(0.3))\n",
    "\n",
    "# Adding the second hidden layer\n",
    "classifier.add(Dense(units = 20, kernel_initializer = 'he_normal',activation='relu'))\n",
    "classifier.add(Dropout(0.4))#dropout layer for 2nd hidden layer data..\n",
    "\n",
    "# Adding the third hidden layer\n",
    "classifier.add(Dense(units = 15, kernel_initializer = 'he_normal',activation='relu'))\n",
    "classifier.add(Dropout(0.3))#dropout layer for 3rd hidden layer data..\n",
    "\n",
    "# Adding the output layer\n",
    "classifier.add(Dense(units = 1, kernel_initializer = 'glorot_uniform', activation = 'sigmoid'))\n",
    "#for an output layer we always use sigmoid activation\n",
    "\n"
   ]
  },
  {
   "cell_type": "code",
   "execution_count": 14,
   "metadata": {},
   "outputs": [
    {
     "name": "stdout",
     "output_type": "stream",
     "text": [
      "Model: \"sequential\"\n",
      "_________________________________________________________________\n",
      "Layer (type)                 Output Shape              Param #   \n",
      "=================================================================\n",
      "dense (Dense)                (None, 10)                120       \n",
      "_________________________________________________________________\n",
      "dropout (Dropout)            (None, 10)                0         \n",
      "_________________________________________________________________\n",
      "dense_1 (Dense)              (None, 20)                220       \n",
      "_________________________________________________________________\n",
      "dropout_1 (Dropout)          (None, 20)                0         \n",
      "_________________________________________________________________\n",
      "dense_2 (Dense)              (None, 15)                315       \n",
      "_________________________________________________________________\n",
      "dropout_2 (Dropout)          (None, 15)                0         \n",
      "_________________________________________________________________\n",
      "dense_3 (Dense)              (None, 1)                 16        \n",
      "=================================================================\n",
      "Total params: 671\n",
      "Trainable params: 671\n",
      "Non-trainable params: 0\n",
      "_________________________________________________________________\n"
     ]
    }
   ],
   "source": [
    "classifier.summary()"
   ]
  },
  {
   "cell_type": "code",
   "execution_count": 50,
   "metadata": {},
   "outputs": [],
   "source": [
    "# Compiling the ANN\n",
    "classifier.compile(optimizer = 'Adam', loss = 'binary_crossentropy', metrics = ['accuracy'])\n",
    "#binary_crossentropy to find for binary type of problems.."
   ]
  },
  {
   "cell_type": "markdown",
   "metadata": {},
   "source": [
    "validation_split - is a fraction of data selected from last samples in x and y provided before shuffling.\n",
    "But this validation data is not used to train data instead it evaluate loss and accuracy on it.."
   ]
  },
  {
   "cell_type": "code",
   "execution_count": 51,
   "metadata": {},
   "outputs": [
    {
     "name": "stdout",
     "output_type": "stream",
     "text": [
      "Epoch 1/100\n",
      "536/536 [==============================] - 2s 4ms/step - loss: 0.6934 - accuracy: 0.6914 - val_loss: 0.5197 - val_accuracy: 0.7910\n",
      "Epoch 2/100\n",
      "536/536 [==============================] - 2s 4ms/step - loss: 0.5417 - accuracy: 0.7826 - val_loss: 0.4881 - val_accuracy: 0.7910\n",
      "Epoch 3/100\n",
      "536/536 [==============================] - 3s 5ms/step - loss: 0.5092 - accuracy: 0.7908 - val_loss: 0.4658 - val_accuracy: 0.7910\n",
      "Epoch 4/100\n",
      "536/536 [==============================] - 2s 5ms/step - loss: 0.4958 - accuracy: 0.7946 - val_loss: 0.4586 - val_accuracy: 0.7910\n",
      "Epoch 5/100\n",
      "536/536 [==============================] - 3s 6ms/step - loss: 0.4741 - accuracy: 0.7957 - val_loss: 0.4508 - val_accuracy: 0.7910\n",
      "Epoch 6/100\n",
      "536/536 [==============================] - 3s 5ms/step - loss: 0.4739 - accuracy: 0.7957 - val_loss: 0.4476 - val_accuracy: 0.7910\n",
      "Epoch 7/100\n",
      "536/536 [==============================] - 3s 5ms/step - loss: 0.4617 - accuracy: 0.7998 - val_loss: 0.4435 - val_accuracy: 0.7910\n",
      "Epoch 8/100\n",
      "536/536 [==============================] - 3s 5ms/step - loss: 0.4559 - accuracy: 0.8011 - val_loss: 0.4391 - val_accuracy: 0.7910\n",
      "Epoch 9/100\n",
      "536/536 [==============================] - 3s 6ms/step - loss: 0.4496 - accuracy: 0.8003 - val_loss: 0.4376 - val_accuracy: 0.7910\n",
      "Epoch 10/100\n",
      "536/536 [==============================] - 3s 5ms/step - loss: 0.4423 - accuracy: 0.8097 - val_loss: 0.4317 - val_accuracy: 0.7933\n",
      "Epoch 11/100\n",
      "536/536 [==============================] - 2s 5ms/step - loss: 0.4400 - accuracy: 0.8035 - val_loss: 0.4312 - val_accuracy: 0.7921\n",
      "Epoch 12/100\n",
      "536/536 [==============================] - 3s 6ms/step - loss: 0.4364 - accuracy: 0.8082 - val_loss: 0.4251 - val_accuracy: 0.7959\n",
      "Epoch 13/100\n",
      "536/536 [==============================] - 3s 5ms/step - loss: 0.4323 - accuracy: 0.8076 - val_loss: 0.4199 - val_accuracy: 0.7997\n",
      "Epoch 14/100\n",
      "536/536 [==============================] - 3s 6ms/step - loss: 0.4231 - accuracy: 0.8132 - val_loss: 0.4180 - val_accuracy: 0.8031\n",
      "Epoch 15/100\n",
      "536/536 [==============================] - 2s 4ms/step - loss: 0.4176 - accuracy: 0.8227 - val_loss: 0.4088 - val_accuracy: 0.8084\n",
      "Epoch 16/100\n",
      "536/536 [==============================] - 3s 5ms/step - loss: 0.4069 - accuracy: 0.8220 - val_loss: 0.4078 - val_accuracy: 0.8073\n",
      "Epoch 17/100\n",
      "536/536 [==============================] - 3s 5ms/step - loss: 0.4133 - accuracy: 0.8207 - val_loss: 0.4034 - val_accuracy: 0.8080\n",
      "Epoch 18/100\n",
      "536/536 [==============================] - 2s 4ms/step - loss: 0.4022 - accuracy: 0.8205 - val_loss: 0.3963 - val_accuracy: 0.8126\n",
      "Epoch 19/100\n",
      "536/536 [==============================] - 3s 5ms/step - loss: 0.3970 - accuracy: 0.8317 - val_loss: 0.3868 - val_accuracy: 0.8285\n",
      "Epoch 20/100\n",
      "536/536 [==============================] - 3s 5ms/step - loss: 0.3949 - accuracy: 0.8328 - val_loss: 0.3865 - val_accuracy: 0.8277\n",
      "Epoch 21/100\n",
      "536/536 [==============================] - 2s 4ms/step - loss: 0.3993 - accuracy: 0.8276 - val_loss: 0.3910 - val_accuracy: 0.8129\n",
      "Epoch 22/100\n",
      "536/536 [==============================] - 3s 5ms/step - loss: 0.3867 - accuracy: 0.8360 - val_loss: 0.3834 - val_accuracy: 0.8289\n",
      "Epoch 23/100\n",
      "536/536 [==============================] - 2s 4ms/step - loss: 0.3824 - accuracy: 0.8371 - val_loss: 0.3806 - val_accuracy: 0.8311\n",
      "Epoch 24/100\n",
      "536/536 [==============================] - 3s 5ms/step - loss: 0.3887 - accuracy: 0.8339 - val_loss: 0.3884 - val_accuracy: 0.8183\n",
      "Epoch 25/100\n",
      "536/536 [==============================] - 2s 4ms/step - loss: 0.3857 - accuracy: 0.8378 - val_loss: 0.3821 - val_accuracy: 0.8251\n",
      "Epoch 26/100\n",
      "536/536 [==============================] - 2s 4ms/step - loss: 0.3935 - accuracy: 0.8322 - val_loss: 0.3819 - val_accuracy: 0.8281\n",
      "Epoch 27/100\n",
      "536/536 [==============================] - 2s 4ms/step - loss: 0.3820 - accuracy: 0.8388 - val_loss: 0.3808 - val_accuracy: 0.8270\n",
      "Epoch 28/100\n",
      "536/536 [==============================] - 3s 6ms/step - loss: 0.3869 - accuracy: 0.8375 - val_loss: 0.3832 - val_accuracy: 0.8296\n",
      "Epoch 29/100\n",
      "536/536 [==============================] - 2s 4ms/step - loss: 0.3820 - accuracy: 0.8382 - val_loss: 0.3777 - val_accuracy: 0.8364\n",
      "Epoch 30/100\n",
      "536/536 [==============================] - 3s 5ms/step - loss: 0.3798 - accuracy: 0.8427 - val_loss: 0.3864 - val_accuracy: 0.8160\n",
      "Epoch 31/100\n",
      "536/536 [==============================] - 3s 5ms/step - loss: 0.3831 - accuracy: 0.8384 - val_loss: 0.3824 - val_accuracy: 0.8277\n",
      "Epoch 32/100\n",
      "536/536 [==============================] - 3s 5ms/step - loss: 0.3789 - accuracy: 0.8419 - val_loss: 0.3808 - val_accuracy: 0.8304\n",
      "Epoch 33/100\n",
      "536/536 [==============================] - 3s 5ms/step - loss: 0.3761 - accuracy: 0.8434 - val_loss: 0.3763 - val_accuracy: 0.8338\n",
      "Epoch 34/100\n",
      "536/536 [==============================] - 3s 5ms/step - loss: 0.3807 - accuracy: 0.8414 - val_loss: 0.3836 - val_accuracy: 0.8228\n",
      "Epoch 35/100\n",
      "536/536 [==============================] - 3s 6ms/step - loss: 0.3741 - accuracy: 0.8442 - val_loss: 0.3745 - val_accuracy: 0.8364\n",
      "Epoch 36/100\n",
      "536/536 [==============================] - 3s 5ms/step - loss: 0.3721 - accuracy: 0.8433 - val_loss: 0.3794 - val_accuracy: 0.8254\n",
      "Epoch 37/100\n",
      "536/536 [==============================] - 2s 5ms/step - loss: 0.3820 - accuracy: 0.8425 - val_loss: 0.3784 - val_accuracy: 0.8273\n",
      "Epoch 38/100\n",
      "536/536 [==============================] - 2s 5ms/step - loss: 0.3768 - accuracy: 0.8447 - val_loss: 0.3808 - val_accuracy: 0.8220\n",
      "Epoch 39/100\n",
      "536/536 [==============================] - 3s 6ms/step - loss: 0.3816 - accuracy: 0.8421 - val_loss: 0.3767 - val_accuracy: 0.8300\n",
      "Epoch 40/100\n",
      "536/536 [==============================] - 3s 5ms/step - loss: 0.3708 - accuracy: 0.8490 - val_loss: 0.3744 - val_accuracy: 0.8300\n",
      "Epoch 41/100\n",
      "536/536 [==============================] - 3s 5ms/step - loss: 0.3764 - accuracy: 0.8401 - val_loss: 0.3758 - val_accuracy: 0.8281\n",
      "Epoch 42/100\n",
      "536/536 [==============================] - 3s 5ms/step - loss: 0.3690 - accuracy: 0.8483 - val_loss: 0.3774 - val_accuracy: 0.8273\n",
      "Epoch 43/100\n",
      "536/536 [==============================] - 3s 5ms/step - loss: 0.3722 - accuracy: 0.8475 - val_loss: 0.3717 - val_accuracy: 0.8364\n",
      "Epoch 44/100\n",
      "536/536 [==============================] - 2s 4ms/step - loss: 0.3818 - accuracy: 0.8419 - val_loss: 0.3765 - val_accuracy: 0.8289\n",
      "Epoch 45/100\n",
      "536/536 [==============================] - 3s 5ms/step - loss: 0.3751 - accuracy: 0.8459 - val_loss: 0.3726 - val_accuracy: 0.8349\n",
      "Epoch 46/100\n",
      "536/536 [==============================] - 2s 5ms/step - loss: 0.3677 - accuracy: 0.8509 - val_loss: 0.3774 - val_accuracy: 0.8285\n",
      "Epoch 47/100\n",
      "536/536 [==============================] - 3s 5ms/step - loss: 0.3764 - accuracy: 0.8395 - val_loss: 0.3802 - val_accuracy: 0.8232\n",
      "Epoch 48/100\n",
      "536/536 [==============================] - 2s 5ms/step - loss: 0.3741 - accuracy: 0.8447 - val_loss: 0.3743 - val_accuracy: 0.8292\n",
      "Epoch 49/100\n",
      "536/536 [==============================] - 3s 5ms/step - loss: 0.3722 - accuracy: 0.8477 - val_loss: 0.3699 - val_accuracy: 0.8360\n",
      "Epoch 50/100\n",
      "536/536 [==============================] - 2s 4ms/step - loss: 0.3683 - accuracy: 0.8483 - val_loss: 0.3677 - val_accuracy: 0.8410\n",
      "Epoch 51/100\n",
      "536/536 [==============================] - 3s 5ms/step - loss: 0.3696 - accuracy: 0.8515 - val_loss: 0.3702 - val_accuracy: 0.8379\n",
      "Epoch 52/100\n",
      "536/536 [==============================] - 3s 5ms/step - loss: 0.3635 - accuracy: 0.8503 - val_loss: 0.3700 - val_accuracy: 0.8372\n",
      "Epoch 53/100\n",
      "536/536 [==============================] - 3s 5ms/step - loss: 0.3702 - accuracy: 0.8481 - val_loss: 0.3726 - val_accuracy: 0.8330\n",
      "Epoch 54/100\n",
      "536/536 [==============================] - 3s 5ms/step - loss: 0.3753 - accuracy: 0.8483 - val_loss: 0.3710 - val_accuracy: 0.8376\n",
      "Epoch 55/100\n",
      "536/536 [==============================] - 2s 4ms/step - loss: 0.3677 - accuracy: 0.8511 - val_loss: 0.3637 - val_accuracy: 0.8451\n",
      "Epoch 56/100\n",
      "536/536 [==============================] - 2s 4ms/step - loss: 0.3669 - accuracy: 0.8466 - val_loss: 0.3685 - val_accuracy: 0.8391\n",
      "Epoch 57/100\n",
      "536/536 [==============================] - 2s 3ms/step - loss: 0.3676 - accuracy: 0.8494 - val_loss: 0.3655 - val_accuracy: 0.8429\n"
     ]
    },
    {
     "name": "stdout",
     "output_type": "stream",
     "text": [
      "Epoch 58/100\n",
      "536/536 [==============================] - 2s 5ms/step - loss: 0.3688 - accuracy: 0.8464 - val_loss: 0.3664 - val_accuracy: 0.8432\n",
      "Epoch 59/100\n",
      "536/536 [==============================] - 2s 4ms/step - loss: 0.3676 - accuracy: 0.8509 - val_loss: 0.3719 - val_accuracy: 0.8334\n",
      "Epoch 60/100\n",
      "536/536 [==============================] - 2s 4ms/step - loss: 0.3699 - accuracy: 0.8520 - val_loss: 0.3649 - val_accuracy: 0.8440\n",
      "Epoch 61/100\n",
      "536/536 [==============================] - 2s 4ms/step - loss: 0.3682 - accuracy: 0.8507 - val_loss: 0.3725 - val_accuracy: 0.8353\n",
      "Epoch 62/100\n",
      "536/536 [==============================] - 2s 4ms/step - loss: 0.3736 - accuracy: 0.8438 - val_loss: 0.3703 - val_accuracy: 0.8387\n",
      "Epoch 63/100\n",
      "536/536 [==============================] - 2s 4ms/step - loss: 0.3632 - accuracy: 0.8520 - val_loss: 0.3639 - val_accuracy: 0.8470\n",
      "Epoch 64/100\n",
      "536/536 [==============================] - 2s 4ms/step - loss: 0.3703 - accuracy: 0.8489 - val_loss: 0.3678 - val_accuracy: 0.8429\n",
      "Epoch 65/100\n",
      "536/536 [==============================] - 2s 4ms/step - loss: 0.3673 - accuracy: 0.8494 - val_loss: 0.3729 - val_accuracy: 0.8342\n",
      "Epoch 66/100\n",
      "536/536 [==============================] - 2s 4ms/step - loss: 0.3724 - accuracy: 0.8472 - val_loss: 0.3705 - val_accuracy: 0.8383\n",
      "Epoch 67/100\n",
      "536/536 [==============================] - 2s 4ms/step - loss: 0.3638 - accuracy: 0.8494 - val_loss: 0.3666 - val_accuracy: 0.8432\n",
      "Epoch 68/100\n",
      "536/536 [==============================] - 2s 4ms/step - loss: 0.3633 - accuracy: 0.8496 - val_loss: 0.3654 - val_accuracy: 0.8429\n",
      "Epoch 69/100\n",
      "536/536 [==============================] - 2s 4ms/step - loss: 0.3684 - accuracy: 0.8466 - val_loss: 0.3757 - val_accuracy: 0.8281\n",
      "Epoch 70/100\n",
      "536/536 [==============================] - 2s 4ms/step - loss: 0.3644 - accuracy: 0.8513 - val_loss: 0.3718 - val_accuracy: 0.8323\n",
      "Epoch 71/100\n",
      "536/536 [==============================] - 2s 4ms/step - loss: 0.3607 - accuracy: 0.8505 - val_loss: 0.3694 - val_accuracy: 0.8391\n",
      "Epoch 72/100\n",
      "536/536 [==============================] - 2s 3ms/step - loss: 0.3679 - accuracy: 0.8526 - val_loss: 0.3685 - val_accuracy: 0.8387\n",
      "Epoch 73/100\n",
      "536/536 [==============================] - 2s 4ms/step - loss: 0.3677 - accuracy: 0.8515 - val_loss: 0.3733 - val_accuracy: 0.8315\n",
      "Epoch 74/100\n",
      "536/536 [==============================] - 2s 4ms/step - loss: 0.3607 - accuracy: 0.8530 - val_loss: 0.3663 - val_accuracy: 0.8436\n",
      "Epoch 75/100\n",
      "536/536 [==============================] - 2s 4ms/step - loss: 0.3623 - accuracy: 0.8535 - val_loss: 0.3689 - val_accuracy: 0.8360\n",
      "Epoch 76/100\n",
      "536/536 [==============================] - 2s 4ms/step - loss: 0.3603 - accuracy: 0.8559 - val_loss: 0.3681 - val_accuracy: 0.8402\n",
      "Epoch 77/100\n",
      "536/536 [==============================] - 2s 4ms/step - loss: 0.3617 - accuracy: 0.8515 - val_loss: 0.3684 - val_accuracy: 0.8425\n",
      "Epoch 78/100\n",
      "536/536 [==============================] - 2s 4ms/step - loss: 0.3638 - accuracy: 0.8539 - val_loss: 0.3743 - val_accuracy: 0.8368\n",
      "Epoch 79/100\n",
      "536/536 [==============================] - 2s 4ms/step - loss: 0.3644 - accuracy: 0.8485 - val_loss: 0.3704 - val_accuracy: 0.8395\n",
      "Epoch 80/100\n",
      "536/536 [==============================] - 2s 4ms/step - loss: 0.3639 - accuracy: 0.8539 - val_loss: 0.3703 - val_accuracy: 0.8406\n",
      "Epoch 81/100\n",
      "536/536 [==============================] - 2s 4ms/step - loss: 0.3671 - accuracy: 0.8530 - val_loss: 0.3741 - val_accuracy: 0.8338\n",
      "Epoch 82/100\n",
      "536/536 [==============================] - 2s 4ms/step - loss: 0.3619 - accuracy: 0.8524 - val_loss: 0.3709 - val_accuracy: 0.8360\n",
      "Epoch 83/100\n",
      "536/536 [==============================] - 2s 4ms/step - loss: 0.3617 - accuracy: 0.8498 - val_loss: 0.3670 - val_accuracy: 0.8448\n",
      "Epoch 84/100\n",
      "536/536 [==============================] - 2s 4ms/step - loss: 0.3667 - accuracy: 0.8498 - val_loss: 0.3710 - val_accuracy: 0.8379\n",
      "Epoch 85/100\n",
      "536/536 [==============================] - 2s 3ms/step - loss: 0.3697 - accuracy: 0.8483 - val_loss: 0.3677 - val_accuracy: 0.8429\n",
      "Epoch 86/100\n",
      "536/536 [==============================] - 2s 4ms/step - loss: 0.3675 - accuracy: 0.8526 - val_loss: 0.3720 - val_accuracy: 0.8360\n",
      "Epoch 87/100\n",
      "536/536 [==============================] - 2s 4ms/step - loss: 0.3620 - accuracy: 0.8515 - val_loss: 0.3663 - val_accuracy: 0.8444\n",
      "Epoch 88/100\n",
      "536/536 [==============================] - 2s 5ms/step - loss: 0.3728 - accuracy: 0.8457 - val_loss: 0.3704 - val_accuracy: 0.8398\n",
      "Epoch 89/100\n",
      "536/536 [==============================] - 3s 5ms/step - loss: 0.3636 - accuracy: 0.8496 - val_loss: 0.3698 - val_accuracy: 0.8425\n",
      "Epoch 90/100\n",
      "536/536 [==============================] - 3s 5ms/step - loss: 0.3639 - accuracy: 0.8528 - val_loss: 0.3727 - val_accuracy: 0.8368\n",
      "Epoch 91/100\n",
      "536/536 [==============================] - 3s 5ms/step - loss: 0.3692 - accuracy: 0.8485 - val_loss: 0.3724 - val_accuracy: 0.8368\n",
      "Epoch 92/100\n",
      "536/536 [==============================] - 3s 5ms/step - loss: 0.3609 - accuracy: 0.8550 - val_loss: 0.3715 - val_accuracy: 0.8387\n",
      "Epoch 93/100\n",
      "536/536 [==============================] - 3s 5ms/step - loss: 0.3659 - accuracy: 0.8502 - val_loss: 0.3721 - val_accuracy: 0.8372\n",
      "Epoch 94/100\n",
      "536/536 [==============================] - 3s 5ms/step - loss: 0.3640 - accuracy: 0.8561 - val_loss: 0.3737 - val_accuracy: 0.8357\n",
      "Epoch 95/100\n",
      "536/536 [==============================] - 3s 6ms/step - loss: 0.3690 - accuracy: 0.8503 - val_loss: 0.3692 - val_accuracy: 0.8402\n",
      "Epoch 96/100\n",
      "536/536 [==============================] - 3s 6ms/step - loss: 0.3664 - accuracy: 0.8520 - val_loss: 0.3698 - val_accuracy: 0.8429\n",
      "Epoch 97/100\n",
      "536/536 [==============================] - 3s 5ms/step - loss: 0.3637 - accuracy: 0.8494 - val_loss: 0.3715 - val_accuracy: 0.8406\n",
      "Epoch 98/100\n",
      "536/536 [==============================] - 2s 4ms/step - loss: 0.3670 - accuracy: 0.8462 - val_loss: 0.3742 - val_accuracy: 0.8338\n",
      "Epoch 99/100\n",
      "536/536 [==============================] - 3s 5ms/step - loss: 0.3629 - accuracy: 0.8526 - val_loss: 0.3666 - val_accuracy: 0.8466\n",
      "Epoch 100/100\n",
      "536/536 [==============================] - 2s 4ms/step - loss: 0.3669 - accuracy: 0.8500 - val_loss: 0.3720 - val_accuracy: 0.8410\n"
     ]
    }
   ],
   "source": [
    "# Fitting the ANN to the Training set\n",
    "model_history=classifier.fit(X_train, y_train,validation_split=0.33, batch_size = 10, epochs = 100)\n",
    "#we have to fit both train data of both input and output to check our loss..."
   ]
  },
  {
   "cell_type": "code",
   "execution_count": 52,
   "metadata": {},
   "outputs": [
    {
     "name": "stdout",
     "output_type": "stream",
     "text": [
      "dict_keys(['loss', 'accuracy', 'val_loss', 'val_accuracy'])\n"
     ]
    }
   ],
   "source": [
    "# list all data in history\n",
    "print(model_history.history.keys())  #loss and accuracy belongs to input"
   ]
  },
  {
   "cell_type": "code",
   "execution_count": 53,
   "metadata": {},
   "outputs": [
    {
     "data": {
      "image/png": "[encoded data removed]",
      "text/plain": [
       "<Figure size 432x288 with 1 Axes>"
      ]
     },
     "metadata": {
      "needs_background": "light"
     },
     "output_type": "display_data"
    }
   ],
   "source": [
    "# summarize history for accuracy\n",
    "plt.plot(model_history.history['accuracy'])\n",
    "plt.plot(model_history.history['val_accuracy'])\n",
    "plt.title('model accuracy')\n",
    "plt.ylabel('accuracy')\n",
    "plt.xlabel('epoch')\n",
    "plt.legend(['train', 'test'], loc='upper left')\n",
    "plt.show()\n"
   ]
  },
  {
   "cell_type": "code",
   "execution_count": 54,
   "metadata": {},
   "outputs": [
    {
     "data": {
      "image/png": "[encoded data removed]",
      "text/plain": [
       "<Figure size 432x288 with 1 Axes>"
      ]
     },
     "metadata": {
      "needs_background": "light"
     },
     "output_type": "display_data"
    }
   ],
   "source": [
    "# summarize history for loss\n",
    "plt.plot(model_history.history['loss'])\n",
    "plt.plot(model_history.history['val_loss'])\n",
    "plt.title('model loss')\n",
    "plt.ylabel('loss')\n",
    "plt.xlabel('epoch')\n",
    "plt.legend(['train', 'test'], loc='upper left')\n",
    "plt.show()\n"
   ]
  },
  {
   "cell_type": "markdown",
   "metadata": {},
   "source": [
    "# Part 3 - Making the predictions and evaluating the model"
   ]
  },
  {
   "cell_type": "code",
   "execution_count": 55,
   "metadata": {},
   "outputs": [
    {
     "data": {
      "text/plain": [
       "array([[False],\n",
       "       [False],\n",
       "       [False],\n",
       "       ...,\n",
       "       [False],\n",
       "       [False],\n",
       "       [False]])"
      ]
     },
     "execution_count": 55,
     "metadata": {},
     "output_type": "execute_result"
    }
   ],
   "source": [
    "\n",
    "# Predicting the Test set results\n",
    "y_pred = classifier.predict(X_test)\n",
    "y_pred = (y_pred > 0.5)  #we set thresold value here to return 'True' if (y_pred > 0.5), else 'False'...\n",
    "y_pred"
   ]
  },
  {
   "cell_type": "code",
   "execution_count": 56,
   "metadata": {},
   "outputs": [
    {
     "data": {
      "text/plain": [
       "array([[1592,   15],\n",
       "       [ 285,  108]], dtype=int64)"
      ]
     },
     "execution_count": 56,
     "metadata": {},
     "output_type": "execute_result"
    }
   ],
   "source": [
    "# Making the Confusion Matrix\n",
    "from sklearn.metrics import confusion_matrix\n",
    "cm = confusion_matrix(y_test, y_pred)\n",
    "cm"
   ]
  },
  {
   "cell_type": "code",
   "execution_count": 57,
   "metadata": {},
   "outputs": [
    {
     "data": {
      "text/plain": [
       "85.0"
      ]
     },
     "execution_count": 57,
     "metadata": {},
     "output_type": "execute_result"
    }
   ],
   "source": [
    "# Calculate the Accuracy\n",
    "from sklearn.metrics import accuracy_score\n",
    "score=accuracy_score(y_pred,y_test)\n",
    "score*100"
   ]
  },
  {
   "cell_type": "code",
   "execution_count": null,
   "metadata": {},
   "outputs": [],
   "source": []
  }
 ],
 "metadata": {
  "kernelspec": {
   "display_name": "Python 3",
   "language": "python",
   "name": "python3"
  },
  "language_info": {
   "codemirror_mode": {
    "name": "ipython",
    "version": 3
   },
   "file_extension": ".py",
   "mimetype": "text/x-python",
   "name": "python",
   "nbconvert_exporter": "python",
   "pygments_lexer": "ipython3",
   "version": "3.8.2"
  }
 },
 "nbformat": 4,
 "nbformat_minor": 4
}
